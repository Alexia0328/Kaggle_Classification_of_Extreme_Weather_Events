{
  "nbformat": 4,
  "nbformat_minor": 0,
  "metadata": {
    "colab": {
      "name": "Extreme_Weather_Logistic_Regression.ipynb",
      "provenance": [],
      "collapsed_sections": []
    },
    "kernelspec": {
      "name": "python3",
      "display_name": "Python 3"
    },
    "language_info": {
      "name": "python"
    }
  },
  "cells": [
    {
      "cell_type": "code",
      "metadata": {
        "colab": {
          "base_uri": "https://localhost:8080/"
        },
        "id": "NEHFM0X1miup",
        "outputId": "2a974eae-c89b-4928-dff1-ce69831b64e0"
      },
      "source": [
        "import os\n",
        "from google.colab import drive\n",
        "drive.mount('/content/drive')\n",
        "path = \"/content/drive/MyDrive/IFT6390/Kaggle/Kaggle1\"\n",
        "os.chdir(path)\n",
        "\n",
        "import numpy as np\n",
        "import pandas as pd\n",
        "from pandas import Series\n",
        "from scipy.sparse import csr_matrix"
      ],
      "execution_count": 1,
      "outputs": [
        {
          "output_type": "stream",
          "name": "stdout",
          "text": [
            "Drive already mounted at /content/drive; to attempt to forcibly remount, call drive.mount(\"/content/drive\", force_remount=True).\n"
          ]
        }
      ]
    },
    {
      "cell_type": "markdown",
      "metadata": {
        "id": "_IlsNeiXoTFp"
      },
      "source": [
        "# **1. Data Preprocessing**"
      ]
    },
    {
      "cell_type": "markdown",
      "metadata": {
        "id": "HL1kFcvcmOF2"
      },
      "source": [
        "Train data"
      ]
    },
    {
      "cell_type": "code",
      "metadata": {
        "colab": {
          "base_uri": "https://localhost:8080/",
          "height": 220
        },
        "id": "1QIpdb8KoSbi",
        "outputId": "c6eab8c1-3533-461a-a1a0-b839f13749a4"
      },
      "source": [
        "data = pd.read_csv('train.csv') \n",
        "\n",
        "# check missing values\n",
        "# print(data.isnull().sum(axis=0))\n",
        "\n",
        "data = data.drop('S.No', axis = 1) \n",
        "# print(data.duplicated()) check duplicate\n",
        "data = data.drop_duplicates() #deduplicate\n",
        "\n",
        "features = ['lat', 'lon', 'TMQ', 'U850', 'V850', 'UBOT', 'VBOT', 'QREFHT', 'PS', 'PSL', 'T200', 'T500', 'PRECT', 'TS',\t'TREFHT',\t'Z1000', 'Z200', 'ZBOT']\n",
        "label = 'LABELS'\n",
        "data_features = data[features]\n",
        "data_label = data[label]\n",
        "\n",
        "#month\n",
        "month = data['time'].tolist()\n",
        "for i in range(len(month)):\n",
        "  month[i] = (month[i] % 10000) // 100\n",
        "data_features.insert(data_features.shape[1], 'month', month)\n",
        "\n",
        "#day\n",
        "day = data['time'].tolist()\n",
        "for i in range(len(day)):\n",
        "  day[i] = day[i] % 100\n",
        "data_features.insert(data_features.shape[1], 'day', day)\n",
        "\n",
        "#standardization: Normalize train set to mean 0 and standard deviation 1 feature-wise.\n",
        "mu = data_features.mean()\n",
        "sigma  = data_features.std()\n",
        "data_features = (data_features - mu)/sigma\n",
        "\n",
        "# insert a column of 1s for the bias\n",
        "data_features.insert(data_features.shape[1], 'BIAS', 1)\n",
        "data_features.head()"
      ],
      "execution_count": 2,
      "outputs": [
        {
          "output_type": "execute_result",
          "data": {
            "text/html": [
              "<div>\n",
              "<style scoped>\n",
              "    .dataframe tbody tr th:only-of-type {\n",
              "        vertical-align: middle;\n",
              "    }\n",
              "\n",
              "    .dataframe tbody tr th {\n",
              "        vertical-align: top;\n",
              "    }\n",
              "\n",
              "    .dataframe thead th {\n",
              "        text-align: right;\n",
              "    }\n",
              "</style>\n",
              "<table border=\"1\" class=\"dataframe\">\n",
              "  <thead>\n",
              "    <tr style=\"text-align: right;\">\n",
              "      <th></th>\n",
              "      <th>lat</th>\n",
              "      <th>lon</th>\n",
              "      <th>TMQ</th>\n",
              "      <th>U850</th>\n",
              "      <th>V850</th>\n",
              "      <th>UBOT</th>\n",
              "      <th>VBOT</th>\n",
              "      <th>QREFHT</th>\n",
              "      <th>PS</th>\n",
              "      <th>PSL</th>\n",
              "      <th>T200</th>\n",
              "      <th>T500</th>\n",
              "      <th>PRECT</th>\n",
              "      <th>TS</th>\n",
              "      <th>TREFHT</th>\n",
              "      <th>Z1000</th>\n",
              "      <th>Z200</th>\n",
              "      <th>ZBOT</th>\n",
              "      <th>month</th>\n",
              "      <th>day</th>\n",
              "      <th>BIAS</th>\n",
              "    </tr>\n",
              "  </thead>\n",
              "  <tbody>\n",
              "    <tr>\n",
              "      <th>0</th>\n",
              "      <td>-0.908686</td>\n",
              "      <td>-0.655686</td>\n",
              "      <td>-1.446629</td>\n",
              "      <td>-0.572219</td>\n",
              "      <td>1.037355</td>\n",
              "      <td>-0.713554</td>\n",
              "      <td>1.695781</td>\n",
              "      <td>-1.001604</td>\n",
              "      <td>1.394119</td>\n",
              "      <td>1.392846</td>\n",
              "      <td>1.962688</td>\n",
              "      <td>-0.686451</td>\n",
              "      <td>-0.168176</td>\n",
              "      <td>-0.662828</td>\n",
              "      <td>-0.849857</td>\n",
              "      <td>1.434832</td>\n",
              "      <td>-0.396766</td>\n",
              "      <td>-0.922959</td>\n",
              "      <td>0.136821</td>\n",
              "      <td>-1.272931</td>\n",
              "      <td>1</td>\n",
              "    </tr>\n",
              "    <tr>\n",
              "      <th>1</th>\n",
              "      <td>1.216774</td>\n",
              "      <td>0.193733</td>\n",
              "      <td>0.984026</td>\n",
              "      <td>1.298239</td>\n",
              "      <td>2.045043</td>\n",
              "      <td>1.076641</td>\n",
              "      <td>2.149791</td>\n",
              "      <td>1.041804</td>\n",
              "      <td>-1.377296</td>\n",
              "      <td>-1.383923</td>\n",
              "      <td>1.432447</td>\n",
              "      <td>1.332695</td>\n",
              "      <td>-0.193809</td>\n",
              "      <td>1.115359</td>\n",
              "      <td>1.439154</td>\n",
              "      <td>-1.493233</td>\n",
              "      <td>1.273084</td>\n",
              "      <td>1.402851</td>\n",
              "      <td>0.964361</td>\n",
              "      <td>-1.055355</td>\n",
              "      <td>1</td>\n",
              "    </tr>\n",
              "    <tr>\n",
              "      <th>2</th>\n",
              "      <td>1.216774</td>\n",
              "      <td>0.171380</td>\n",
              "      <td>-1.787944</td>\n",
              "      <td>-0.298059</td>\n",
              "      <td>-1.361854</td>\n",
              "      <td>-0.243334</td>\n",
              "      <td>-1.104079</td>\n",
              "      <td>-1.697052</td>\n",
              "      <td>0.591978</td>\n",
              "      <td>0.589156</td>\n",
              "      <td>-0.437588</td>\n",
              "      <td>-1.299803</td>\n",
              "      <td>-0.193809</td>\n",
              "      <td>0.432000</td>\n",
              "      <td>-0.840439</td>\n",
              "      <td>0.569268</td>\n",
              "      <td>-1.383491</td>\n",
              "      <td>-1.076930</td>\n",
              "      <td>-1.932029</td>\n",
              "      <td>1.664350</td>\n",
              "      <td>1</td>\n",
              "    </tr>\n",
              "    <tr>\n",
              "      <th>3</th>\n",
              "      <td>0.764985</td>\n",
              "      <td>-0.394900</td>\n",
              "      <td>1.395829</td>\n",
              "      <td>0.080610</td>\n",
              "      <td>-0.318709</td>\n",
              "      <td>0.940007</td>\n",
              "      <td>-0.334766</td>\n",
              "      <td>1.110756</td>\n",
              "      <td>-1.338133</td>\n",
              "      <td>-1.344684</td>\n",
              "      <td>0.632722</td>\n",
              "      <td>0.852439</td>\n",
              "      <td>0.183366</td>\n",
              "      <td>0.885178</td>\n",
              "      <td>0.783078</td>\n",
              "      <td>-1.463771</td>\n",
              "      <td>0.655926</td>\n",
              "      <td>0.844398</td>\n",
              "      <td>0.550591</td>\n",
              "      <td>-1.055355</td>\n",
              "      <td>1</td>\n",
              "    </tr>\n",
              "    <tr>\n",
              "      <th>4</th>\n",
              "      <td>-0.898418</td>\n",
              "      <td>-0.678039</td>\n",
              "      <td>-0.885710</td>\n",
              "      <td>-1.014248</td>\n",
              "      <td>-1.162562</td>\n",
              "      <td>-1.228055</td>\n",
              "      <td>-0.851582</td>\n",
              "      <td>-0.656311</td>\n",
              "      <td>1.808368</td>\n",
              "      <td>1.807895</td>\n",
              "      <td>-1.123181</td>\n",
              "      <td>-0.200704</td>\n",
              "      <td>-0.169139</td>\n",
              "      <td>-0.611811</td>\n",
              "      <td>-0.409376</td>\n",
              "      <td>1.916569</td>\n",
              "      <td>-0.204134</td>\n",
              "      <td>-0.446988</td>\n",
              "      <td>0.550591</td>\n",
              "      <td>-1.055355</td>\n",
              "      <td>1</td>\n",
              "    </tr>\n",
              "  </tbody>\n",
              "</table>\n",
              "</div>"
            ],
            "text/plain": [
              "        lat       lon       TMQ      U850  ...      ZBOT     month       day  BIAS\n",
              "0 -0.908686 -0.655686 -1.446629 -0.572219  ... -0.922959  0.136821 -1.272931     1\n",
              "1  1.216774  0.193733  0.984026  1.298239  ...  1.402851  0.964361 -1.055355     1\n",
              "2  1.216774  0.171380 -1.787944 -0.298059  ... -1.076930 -1.932029  1.664350     1\n",
              "3  0.764985 -0.394900  1.395829  0.080610  ...  0.844398  0.550591 -1.055355     1\n",
              "4 -0.898418 -0.678039 -0.885710 -1.014248  ... -0.446988  0.550591 -1.055355     1\n",
              "\n",
              "[5 rows x 21 columns]"
            ]
          },
          "metadata": {},
          "execution_count": 2
        }
      ]
    },
    {
      "cell_type": "markdown",
      "metadata": {
        "id": "IrGy1W0mmTBc"
      },
      "source": [
        "Test data"
      ]
    },
    {
      "cell_type": "code",
      "metadata": {
        "colab": {
          "base_uri": "https://localhost:8080/",
          "height": 220
        },
        "id": "NzF_AplnmMjz",
        "outputId": "46f60e3b-586f-45cf-aec2-a69119fc0d1f"
      },
      "source": [
        "test = pd.read_csv('test.csv')\n",
        "features = ['lat', 'lon','TMQ', 'U850', 'V850', 'UBOT', 'VBOT', 'QREFHT', 'PS', 'PSL', 'T200', 'T500', 'PRECT', 'TS',\t'TREFHT',\t'Z1000', 'Z200', 'ZBOT']\n",
        "test_features = test[features]\n",
        "\n",
        "#month\n",
        "month = test['time'].tolist()\n",
        "for i in range(len(month)):\n",
        "  month[i] = (month[i] % 10000) // 100\n",
        "test_features.insert(test_features.shape[1], 'month', month)\n",
        "\n",
        "#day\n",
        "day = test['time'].tolist()\n",
        "for i in range(len(day)):\n",
        "  day[i] = day[i] % 100\n",
        "test_features.insert(test_features.shape[1], 'day', day)\n",
        "\n",
        "\n",
        "mu = test_features.mean()\n",
        "sigma  = test_features.std()\n",
        "test_features = (test_features - mu)/sigma\n",
        "test_features.insert(test_features.shape[1], 'BIAS', 1)\n",
        "test_features.head()"
      ],
      "execution_count": 3,
      "outputs": [
        {
          "output_type": "execute_result",
          "data": {
            "text/html": [
              "<div>\n",
              "<style scoped>\n",
              "    .dataframe tbody tr th:only-of-type {\n",
              "        vertical-align: middle;\n",
              "    }\n",
              "\n",
              "    .dataframe tbody tr th {\n",
              "        vertical-align: top;\n",
              "    }\n",
              "\n",
              "    .dataframe thead th {\n",
              "        text-align: right;\n",
              "    }\n",
              "</style>\n",
              "<table border=\"1\" class=\"dataframe\">\n",
              "  <thead>\n",
              "    <tr style=\"text-align: right;\">\n",
              "      <th></th>\n",
              "      <th>lat</th>\n",
              "      <th>lon</th>\n",
              "      <th>TMQ</th>\n",
              "      <th>U850</th>\n",
              "      <th>V850</th>\n",
              "      <th>UBOT</th>\n",
              "      <th>VBOT</th>\n",
              "      <th>QREFHT</th>\n",
              "      <th>PS</th>\n",
              "      <th>PSL</th>\n",
              "      <th>T200</th>\n",
              "      <th>T500</th>\n",
              "      <th>PRECT</th>\n",
              "      <th>TS</th>\n",
              "      <th>TREFHT</th>\n",
              "      <th>Z1000</th>\n",
              "      <th>Z200</th>\n",
              "      <th>ZBOT</th>\n",
              "      <th>month</th>\n",
              "      <th>day</th>\n",
              "      <th>BIAS</th>\n",
              "    </tr>\n",
              "  </thead>\n",
              "  <tbody>\n",
              "    <tr>\n",
              "      <th>0</th>\n",
              "      <td>-1.229333</td>\n",
              "      <td>2.042784</td>\n",
              "      <td>-0.983297</td>\n",
              "      <td>-0.193739</td>\n",
              "      <td>-0.123017</td>\n",
              "      <td>-0.825821</td>\n",
              "      <td>-0.358298</td>\n",
              "      <td>-1.410598</td>\n",
              "      <td>2.021822</td>\n",
              "      <td>2.022854</td>\n",
              "      <td>-0.431612</td>\n",
              "      <td>-1.498500</td>\n",
              "      <td>-0.106353</td>\n",
              "      <td>-1.929845</td>\n",
              "      <td>-1.795646</td>\n",
              "      <td>2.010704</td>\n",
              "      <td>-1.765335</td>\n",
              "      <td>-1.731259</td>\n",
              "      <td>0.848069</td>\n",
              "      <td>1.30439</td>\n",
              "      <td>1</td>\n",
              "    </tr>\n",
              "    <tr>\n",
              "      <th>1</th>\n",
              "      <td>-1.229333</td>\n",
              "      <td>2.050397</td>\n",
              "      <td>-1.042802</td>\n",
              "      <td>-0.202247</td>\n",
              "      <td>-0.031383</td>\n",
              "      <td>-0.928823</td>\n",
              "      <td>-0.172188</td>\n",
              "      <td>-1.482267</td>\n",
              "      <td>2.033150</td>\n",
              "      <td>2.034209</td>\n",
              "      <td>-0.465811</td>\n",
              "      <td>-1.481222</td>\n",
              "      <td>-0.204784</td>\n",
              "      <td>-1.930019</td>\n",
              "      <td>-1.828771</td>\n",
              "      <td>2.017855</td>\n",
              "      <td>-1.765385</td>\n",
              "      <td>-1.777682</td>\n",
              "      <td>0.848069</td>\n",
              "      <td>1.30439</td>\n",
              "      <td>1</td>\n",
              "    </tr>\n",
              "    <tr>\n",
              "      <th>2</th>\n",
              "      <td>-1.229333</td>\n",
              "      <td>2.058010</td>\n",
              "      <td>-1.118994</td>\n",
              "      <td>-0.211497</td>\n",
              "      <td>0.042045</td>\n",
              "      <td>-0.988242</td>\n",
              "      <td>0.047758</td>\n",
              "      <td>-1.525559</td>\n",
              "      <td>2.051553</td>\n",
              "      <td>2.052655</td>\n",
              "      <td>-0.567847</td>\n",
              "      <td>-1.472340</td>\n",
              "      <td>-0.223318</td>\n",
              "      <td>-1.930019</td>\n",
              "      <td>-1.882917</td>\n",
              "      <td>2.031197</td>\n",
              "      <td>-1.755198</td>\n",
              "      <td>-1.838255</td>\n",
              "      <td>0.848069</td>\n",
              "      <td>1.30439</td>\n",
              "      <td>1</td>\n",
              "    </tr>\n",
              "    <tr>\n",
              "      <th>3</th>\n",
              "      <td>-1.229333</td>\n",
              "      <td>2.065623</td>\n",
              "      <td>-1.154444</td>\n",
              "      <td>-0.211198</td>\n",
              "      <td>0.134985</td>\n",
              "      <td>-0.978184</td>\n",
              "      <td>0.269036</td>\n",
              "      <td>-1.565374</td>\n",
              "      <td>2.055933</td>\n",
              "      <td>2.057046</td>\n",
              "      <td>-0.671754</td>\n",
              "      <td>-1.449615</td>\n",
              "      <td>-0.272138</td>\n",
              "      <td>-1.914115</td>\n",
              "      <td>-1.934666</td>\n",
              "      <td>2.030726</td>\n",
              "      <td>-1.747432</td>\n",
              "      <td>-1.896030</td>\n",
              "      <td>0.848069</td>\n",
              "      <td>1.30439</td>\n",
              "      <td>1</td>\n",
              "    </tr>\n",
              "    <tr>\n",
              "      <th>4</th>\n",
              "      <td>-1.229333</td>\n",
              "      <td>2.073235</td>\n",
              "      <td>-1.180665</td>\n",
              "      <td>-0.201475</td>\n",
              "      <td>0.295448</td>\n",
              "      <td>-0.934087</td>\n",
              "      <td>0.464976</td>\n",
              "      <td>-1.616486</td>\n",
              "      <td>2.045002</td>\n",
              "      <td>2.046088</td>\n",
              "      <td>-0.717009</td>\n",
              "      <td>-1.405900</td>\n",
              "      <td>-0.271125</td>\n",
              "      <td>-1.907302</td>\n",
              "      <td>-1.941000</td>\n",
              "      <td>2.018313</td>\n",
              "      <td>-1.743070</td>\n",
              "      <td>-1.910669</td>\n",
              "      <td>0.848069</td>\n",
              "      <td>1.30439</td>\n",
              "      <td>1</td>\n",
              "    </tr>\n",
              "  </tbody>\n",
              "</table>\n",
              "</div>"
            ],
            "text/plain": [
              "        lat       lon       TMQ      U850  ...      ZBOT     month      day  BIAS\n",
              "0 -1.229333  2.042784 -0.983297 -0.193739  ... -1.731259  0.848069  1.30439     1\n",
              "1 -1.229333  2.050397 -1.042802 -0.202247  ... -1.777682  0.848069  1.30439     1\n",
              "2 -1.229333  2.058010 -1.118994 -0.211497  ... -1.838255  0.848069  1.30439     1\n",
              "3 -1.229333  2.065623 -1.154444 -0.211198  ... -1.896030  0.848069  1.30439     1\n",
              "4 -1.229333  2.073235 -1.180665 -0.201475  ... -1.910669  0.848069  1.30439     1\n",
              "\n",
              "[5 rows x 21 columns]"
            ]
          },
          "metadata": {},
          "execution_count": 3
        }
      ]
    },
    {
      "cell_type": "markdown",
      "metadata": {
        "id": "jcYfKxEmm4C-"
      },
      "source": [
        "One Hot Labels"
      ]
    },
    {
      "cell_type": "code",
      "metadata": {
        "id": "anMXFW8JK3qr"
      },
      "source": [
        "#onehot labels\n",
        "def oneHotIt(Y):\n",
        "    m = Y.shape[0]\n",
        "    #Y = Y[:,0]\n",
        "    OHX = csr_matrix((np.ones(m), (Y, np.array(range(m)))))\n",
        "    OHX = np.array(OHX.todense()).T\n",
        "    return OHX\n",
        "    \n",
        "#oneHotIt(data_label)"
      ],
      "execution_count": 4,
      "outputs": []
    },
    {
      "cell_type": "markdown",
      "metadata": {
        "id": "qpxgJ4VHR3UL"
      },
      "source": [
        "# **2. Softmax**"
      ]
    },
    {
      "cell_type": "code",
      "metadata": {
        "id": "kGOMtM88LB7k"
      },
      "source": [
        "def softmax(x):\n",
        "    orig_shape = x.shape\n",
        "    tmp = np.max(x,axis=1) \n",
        "    x -= tmp.reshape((x.shape[0],1)) \n",
        "    x = np.exp(x) \n",
        "    tmp = np.sum(x, axis = 1)        \n",
        "    x /= tmp.reshape((x.shape[0], 1))\n",
        "    return x"
      ],
      "execution_count": 5,
      "outputs": []
    },
    {
      "cell_type": "markdown",
      "metadata": {
        "id": "E_XEXMd2R_d3"
      },
      "source": [
        "# **3. Cost Function**"
      ]
    },
    {
      "cell_type": "code",
      "metadata": {
        "id": "-vUNMkeRNf4N"
      },
      "source": [
        "def cost(w,x,y): #x:features，y:labels, w:weight\n",
        "  m = np.shape(x)[0]\n",
        "  y_mat = oneHotIt(y)\n",
        "  scores = np.dot(x, w.T)\n",
        "  probs = softmax(scores) #the probability of each label\n",
        "  cost = (-1 / m) * np.sum(y_mat * np.log(probs)) + (lam/2)*np.sum(w*w)\n",
        "  return probs, cost"
      ],
      "execution_count": 6,
      "outputs": []
    },
    {
      "cell_type": "markdown",
      "metadata": {
        "id": "81vgl07vSDzx"
      },
      "source": [
        "# **4. Gradient Descent**"
      ]
    },
    {
      "cell_type": "code",
      "metadata": {
        "id": "RglhBdMDR0Pr"
      },
      "source": [
        "def J(theta, X_b, y):\n",
        "  y_hat = softmax(np.dot(X_b, theta.T))\n",
        "  return - np.sum(y*np.log(y_hat) + (1-y)*np.log(1-y_hat)) / len(y)\n",
        "\n",
        "def dJ(theta, X_b, y):\n",
        "  return np.dot(X_b.T, softmax(np.dot(X_b, theta.T)) - y) / len(X_b)\n",
        "\n",
        "def gradient_descent(X_b, y, initial_theta, eta, n_iters=1000, epsilon=1e-8):\n",
        "  theta = initial_theta \n",
        "  cur_iter = 0\n",
        "  y_mat = oneHotIt(y) \n",
        "  cost_array = []\n",
        "  while cur_iter < n_iters:\n",
        "    probs, loss = cost(theta, X_b, y)\n",
        "    gradient = dJ(theta, X_b, y_mat)\n",
        "    last_theta = theta\n",
        "    theta = theta - eta * gradient.T\n",
        "    if ((abs(J(theta, X_b, y_mat) - J(last_theta, X_b, y_mat)) < epsilon) and loss - cost_array[-1] > 0):\n",
        "      break\n",
        "    cur_iter += 1\n",
        "    cost_array.append(loss)\n",
        "  print(cost_array[-1])\n",
        "  return theta, cost_array"
      ],
      "execution_count": 7,
      "outputs": []
    },
    {
      "cell_type": "markdown",
      "metadata": {
        "id": "HTcrtEVjlz5K"
      },
      "source": [
        "# 5. Predict and visualize"
      ]
    },
    {
      "cell_type": "code",
      "metadata": {
        "id": "NBp2eEWPt7BV"
      },
      "source": [
        "def getProbsAndPreds(someX):\n",
        "    probs = softmax(np.dot(someX,w.T))\n",
        "    preds = np.argmax(probs,axis=1)\n",
        "    return probs,preds\n",
        "def getAccuracy(someX,someY):\n",
        "    prob,prede = getProbsAndPreds(someX)\n",
        "    accuracy = sum(prede == someY)/(float(len(someY)))\n",
        "    return accuracy"
      ],
      "execution_count": 8,
      "outputs": []
    },
    {
      "cell_type": "code",
      "metadata": {
        "colab": {
          "base_uri": "https://localhost:8080/",
          "height": 311
        },
        "id": "EYljTcsAUBIY",
        "outputId": "538ea1a6-2060-4034-8572-f2c0a1da3a8a"
      },
      "source": [
        "import matplotlib.pyplot as plt\n",
        "w = np.zeros((3,21)) # initialization  \n",
        "lam = 0\n",
        "w, all_cost = gradient_descent(data_features, data_label, w, 0.1) \n",
        "def plotloss(loss_array):\n",
        "    n = len(loss_array)\n",
        "    plt.xlabel(\"iteration num\")\n",
        "    plt.ylabel(\"cost\")\n",
        "    plt.scatter(range(1, n+1), loss_array)\n",
        "    plt.show()\n",
        "plotloss(all_cost)\n",
        "print('Training Accuracy: ', getAccuracy(data_features,data_label))"
      ],
      "execution_count": 9,
      "outputs": [
        {
          "output_type": "stream",
          "name": "stdout",
          "text": [
            "0.5049390927749103\n"
          ]
        },
        {
          "output_type": "display_data",
          "data": {
            "image/png": "[encoded data removed]",
            "text/plain": [
              "<Figure size 432x288 with 1 Axes>"
            ]
          },
          "metadata": {
            "needs_background": "light"
          }
        },
        {
          "output_type": "stream",
          "name": "stdout",
          "text": [
            "Training Accuracy:  0.7778985366611031\n"
          ]
        }
      ]
    },
    {
      "cell_type": "code",
      "metadata": {
        "id": "IiUg-Lfu48Qq"
      },
      "source": [
        "_,pred = getProbsAndPreds(test_features)\n",
        "res=pd.DataFrame(pred, columns = ['LABELS'])\n",
        "res.to_csv(\"result_LF.csv\") "
      ],
      "execution_count": 13,
      "outputs": []
    }
  ]
}